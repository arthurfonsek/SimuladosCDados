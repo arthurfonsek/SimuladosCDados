{
 "cells": [
  {
   "cell_type": "markdown",
   "metadata": {},
   "source": [
    "# Avaliação Inicial de Ciência dos dados \n",
    "\n",
    "## 2020 - 2o. semestre\n",
    "___\n"
   ]
  },
  {
   "cell_type": "markdown",
   "metadata": {},
   "source": [
    "___\n",
    "## Índice\n",
    "\n",
    "- [Cereal: base de dados](#cereal)\n",
    "- [Questão 1](#q1)\n",
    "- [Questão 2](#q2)\n",
    "- [Questão 3](#q3)\n",
    "- [Questão 4](#q4)\n",
    "- [Questão 5](#q5)\n",
    "___"
   ]
  },
  {
   "cell_type": "markdown",
   "metadata": {},
   "source": [
    "<div id=\"cereal\"></div>\n",
    "\n",
    "## Cereal\n",
    "\n",
    "Entre as muitas competições disponíveis na plataforma Kaggle, encontra-se essa com informações nutricionais de quase 80 cereais conforme apresentado neste [link](https://www.kaggle.com/crawford/80-cereals).\n",
    "\n",
    "A base de dados apresentada no arquivo `cereal.xlsx` contém informação de quase 80 cereais para os quais foram mensurados as seguintes informações (os nomes das variáveis e as categorias serão mantidas em inglês para manter a base de dados original do do Kaggle):\n",
    " \n",
    " * `name`: nome do cereal\n",
    " * `mfr`: fabricante do cereal\n",
    "    - A = American Home Food Products\n",
    "    - G = General Mills\n",
    "    - K = Kelloggs\n",
    "    - N = Nabisco\n",
    "    - P = Post\n",
    "    - Q = Quaker Oats\n",
    "    - R = Ralston Purina\n",
    " * `type`: como deve ser consumido\n",
    "    - cold = frio\n",
    "    - hot = quente\n",
    " * `calories`: calorias por porção\n",
    " * `protein`: gramas de proteínas\n",
    " * `fat`: gramas de gordura\n",
    " * `sodium`: miligramas de sódio\n",
    " * `fiber`: gramas de fibras\n",
    " * `carbo`: gramas de carboidrato \n",
    " * `sugars`: gramas de açúcar\n",
    " * `potass`: miligramas de potássio\n",
    " * `vitamins`: vitaminas e minerais - 0, 25, ou 100, indicando um percentual de acordo com o recomendado pela FDA \n",
    " * `shelf`: posição na prateleira de venda do supermercado (1, 2, ou 3, contado a partir do chão)\n",
    " * `weight`: peso, em onças, em uma porção. \n",
    " * `cups`: número de xícaras em um porção  \n",
    " * `rating`: um índice de preferência de cereais (possivelmente de algum relatório do consumidor), que varia de 0 (pouco preferido) até 100 (muito preferido).\n",
    "\n"
   ]
  },
  {
   "cell_type": "markdown",
   "metadata": {},
   "source": [
    "___\n",
    "Carregando algumas bibliotecas:"
   ]
  },
  {
   "cell_type": "code",
   "execution_count": null,
   "metadata": {},
   "outputs": [],
   "source": [
    "%matplotlib inline\n",
    "import pandas as pd\n",
    "import matplotlib.pyplot as plt\n",
    "import numpy as np\n",
    "\n",
    "# Para ter melhor print\n",
    "from IPython.display import display"
   ]
  },
  {
   "cell_type": "markdown",
   "metadata": {},
   "source": [
    "Vamos também verificar se o arquivo de dados está no nosso diretório:"
   ]
  },
  {
   "cell_type": "code",
   "execution_count": null,
   "metadata": {},
   "outputs": [],
   "source": [
    "import os\n",
    "\n",
    "filename = 'cereal.csv'\n",
    "if filename in os.listdir():\n",
    "    print(f'Encontrei o arquivo {filename}, tudo certo para prosseguir com a prova!')\n",
    "else:\n",
    "    print(f'Não encontrei o arquivo {filename} aqui no diretório {os.getcwd()}, será que você não baixou o arquivo?')"
   ]
  },
  {
   "cell_type": "markdown",
   "metadata": {},
   "source": [
    "Se tudo deu certo até agora, vamos prosseguir. Primeiro vamos ler os dados:"
   ]
  },
  {
   "cell_type": "code",
   "execution_count": null,
   "metadata": {},
   "outputs": [],
   "source": [
    "dados = pd.read_csv(filename)"
   ]
  },
  {
   "cell_type": "code",
   "execution_count": null,
   "metadata": {
    "scrolled": true
   },
   "outputs": [],
   "source": [
    "dados.head(3)"
   ]
  },
  {
   "cell_type": "markdown",
   "metadata": {},
   "source": [
    "Definição das variáveis neste momento:"
   ]
  },
  {
   "cell_type": "code",
   "execution_count": null,
   "metadata": {
    "scrolled": false
   },
   "outputs": [],
   "source": [
    "dados.dtypes"
   ]
  },
  {
   "cell_type": "markdown",
   "metadata": {},
   "source": [
    "O pandas não tem como saber quais variáveis são qualitativas ao carregar os dados. Então precisamos modificar as colunas explicitamente.\n",
    "\n",
    "Já deixamos isso pronto para você nesta avaliação:"
   ]
  },
  {
   "cell_type": "code",
   "execution_count": null,
   "metadata": {},
   "outputs": [],
   "source": [
    "dados['name'] = dados['name'].astype('category')\n",
    "dados['mfr'] = dados['mfr'].astype('category')\n",
    "dados['type'] = dados['type'].astype('category')\n",
    "dados['shelf'] = pd.Categorical(dados.shelf, \n",
    "                                 categories = [1,2,3], ordered=True)"
   ]
  },
  {
   "cell_type": "markdown",
   "metadata": {},
   "source": [
    "***DataFrame* pronto:**"
   ]
  },
  {
   "cell_type": "code",
   "execution_count": null,
   "metadata": {
    "scrolled": true
   },
   "outputs": [],
   "source": [
    "dados.head(3)"
   ]
  },
  {
   "cell_type": "markdown",
   "metadata": {},
   "source": [
    "<div id=\"q1\"></div>\n",
    "\n",
    "___\n",
    "### Questão 1"
   ]
  },
  {
   "cell_type": "markdown",
   "metadata": {},
   "source": [
    "a) **[1,0 ponto]** Calcule o `rating` médio por `mfr` e indique a marca mais bem avaliada. *Atenção: não use 7 filtros aqui*. "
   ]
  },
  {
   "cell_type": "code",
   "execution_count": null,
   "metadata": {},
   "outputs": [],
   "source": [
    "# Coloque seu código aqui..."
   ]
  },
  {
   "cell_type": "markdown",
   "metadata": {},
   "source": [
    "b) **[1,25 ponto]** Crie um novo *dataframe* chamado `df` contendo:\n",
    " * as linhas considerando apenas produtos do fabricante Quaker Oats (variável `mfr`) **e** com gordura maior do que zero (variável `fat`)\n",
    " * as colunas `mfr`, `fat` e `rating`\n",
    " * imprima o conteúdo dessa base de dados `df` em ordem decrescente por `rating`"
   ]
  },
  {
   "cell_type": "code",
   "execution_count": null,
   "metadata": {},
   "outputs": [],
   "source": [
    "# Coloque seu código aqui..."
   ]
  },
  {
   "cell_type": "markdown",
   "metadata": {},
   "source": [
    "<div id=\"q2\"></div>\n",
    "\n",
    "___\n",
    "### Questão 2"
   ]
  },
  {
   "cell_type": "markdown",
   "metadata": {},
   "source": [
    "a) **[1,0 ponto]** Construa um histograma para a variavel `potass` com 12 faixas de amplitudes iguais"
   ]
  },
  {
   "cell_type": "code",
   "execution_count": null,
   "metadata": {},
   "outputs": [],
   "source": [
    "# Coloque seu código aqui..."
   ]
  },
  {
   "cell_type": "markdown",
   "metadata": {},
   "source": [
    "b) **[1,0 ponto]** **Observando** o histograma construído no item anterior, é possível afirmar que a maioria dos cereais tem valor de potássio maior do que a média? \n",
    "\n",
    "Responda se essa afirmação está **correta** ou **incorreta** embasado apenas no histograma. **Justifique sua resposta.**"
   ]
  },
  {
   "cell_type": "code",
   "execution_count": null,
   "metadata": {},
   "outputs": [],
   "source": [
    "# Coloque seu código aqui..."
   ]
  },
  {
   "cell_type": "markdown",
   "metadata": {},
   "source": [
    "<div id=\"q3\"></div>\n",
    "\n",
    "___\n",
    "### Questão 3"
   ]
  },
  {
   "cell_type": "markdown",
   "metadata": {},
   "source": [
    "a) **[1,0 ponto]** Faça uma tabela cruzada com as frequências absolutas (contagens) considerando a variável `shelf` nas linhas e a variável `mfr` nas colunas."
   ]
  },
  {
   "cell_type": "code",
   "execution_count": null,
   "metadata": {},
   "outputs": [],
   "source": [
    "# Coloque seu código aqui..."
   ]
  },
  {
   "cell_type": "markdown",
   "metadata": {},
   "source": [
    "b) **[1,25 ponto]** Repita a tabela cruzada anterior e utilize o argumento `normalize` adequadamente para responder:\n",
    "   * Qual produto de cereal com maior % (frequência relativa) na prateleira 1?\n",
    "   * E com maior % (frequência relativa) na prateleira 3?"
   ]
  },
  {
   "cell_type": "code",
   "execution_count": null,
   "metadata": {},
   "outputs": [],
   "source": [
    "# Coloque seu código aqui..."
   ]
  },
  {
   "cell_type": "markdown",
   "metadata": {},
   "source": [
    "<div id=\"q4\"></div>\n",
    "\n",
    "___\n",
    "### Questão 4"
   ]
  },
  {
   "cell_type": "markdown",
   "metadata": {},
   "source": [
    "a) **[1,25 ponto]** Utilizando também o comando `plt.subplot()`, construa:\n",
    "  * um gráfico para descrever a associação entre as variáveis `fat` e `calories`\n",
    "  * um gráfico para descrever a associação entre as variáveis `rating` e `calories`"
   ]
  },
  {
   "cell_type": "code",
   "execution_count": null,
   "metadata": {},
   "outputs": [],
   "source": [
    "# Coloque seu código aqui..."
   ]
  },
  {
   "cell_type": "markdown",
   "metadata": {},
   "source": [
    "b) **[1,0 ponto]** Interprete esses gráficos em termos de associação entre as variáveis envolvidas."
   ]
  },
  {
   "cell_type": "code",
   "execution_count": null,
   "metadata": {},
   "outputs": [],
   "source": [
    "# Coloque seu código aqui..."
   ]
  },
  {
   "cell_type": "markdown",
   "metadata": {},
   "source": [
    "<div id=\"q5\"></div>\n",
    "\n",
    "___\n",
    "### Questão 5"
   ]
  },
  {
   "cell_type": "markdown",
   "metadata": {},
   "source": [
    "**[1,25 ponto]** Avalie a validade da afirmação: \"A associação entre `sugar` e `calories` pode ser considerada forte\".\n",
    "\n",
    "Use uma medida numérica para validar ou refutar a afirmação acima."
   ]
  },
  {
   "cell_type": "code",
   "execution_count": null,
   "metadata": {},
   "outputs": [],
   "source": [
    "# Coloque seu código aqui...\n"
   ]
  }
 ],
 "metadata": {
  "kernelspec": {
   "display_name": "Python 3",
   "language": "python",
   "name": "python3"
  },
  "language_info": {
   "codemirror_mode": {
    "name": "ipython",
    "version": 3
   },
   "file_extension": ".py",
   "mimetype": "text/x-python",
   "name": "python",
   "nbconvert_exporter": "python",
   "pygments_lexer": "ipython3",
   "version": "3.8.5"
  }
 },
 "nbformat": 4,
 "nbformat_minor": 4
}
