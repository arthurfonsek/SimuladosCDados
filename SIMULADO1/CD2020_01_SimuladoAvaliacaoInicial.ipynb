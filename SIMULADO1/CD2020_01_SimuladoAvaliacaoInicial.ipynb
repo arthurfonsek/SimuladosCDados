{
 "cells": [
  {
   "cell_type": "markdown",
   "metadata": {},
   "source": [
    "\n",
    "\n",
    "# Avaliação Inicial de Ciência dos dados\n",
    "\n",
    "**2020 - 1o. semestre**"
   ]
  },
  {
   "cell_type": "markdown",
   "metadata": {},
   "source": [
    "___\n",
    "## Índice\n",
    "\n",
    "- [Titanic](#titanic)\n",
    "- [Questão 1](#q1)\n",
    "- [Questão 2](#q2)\n",
    "- [Questão 3](#q3)\n",
    "- [Questão 4](#q4)\n",
    "- [Questão 5](#q5)\n",
    "___"
   ]
  },
  {
   "cell_type": "markdown",
   "metadata": {},
   "source": [
    "<div id=\"titanic\"></div>\n",
    "\n",
    "## Titanic\n",
    "\n",
    "Entre as muitas competições disponíveis na plataforma Kaggle, encontra-se a de *Machine Learning* do Titanic conforme apresentado neste [link](https://www.kaggle.com/c/titanic/data).\n",
    "\n",
    "A base de dados apresentada no arquivo `titanic.xlsx` contém informação de 891 passageiros para os quais foram mensurados as seguintes informações (as categorias serão mantidas em inglês assim como os nomes das variáveis):\n",
    " \n",
    " * `Survived`: indica se passageiro sobreviveu ou não.\n",
    "    - 0 = No,\n",
    "    - 1 = Yes.\n",
    " * `Pclass`: indica a classe da passagem (*ticket*).\n",
    "    - 1 = 1st, \n",
    "    - 2 = 2nd, \n",
    "    - 3 = 3rd.\n",
    " * `Sex`: sexo do passageiro. \n",
    "    - female,\n",
    "    - male.\n",
    " * `Age`: idade em anos.\n",
    " * `Sibsp`: número de irmãos e/ou cônjuges a bordo do Titanic.\n",
    " * `Parch`: número de pais e/ou filhos a bordo do Titanic.\n",
    " * `Ticket`: número do *ticket*.\n",
    " * `Fare`: tarifa do passageiro.\n",
    " * `Cabin`: número da cabine.\n",
    " * `Embarked`: portão de embarque.\n",
    "    - C = Cherbourg, \n",
    "    - Q = Queenstown, \n",
    "    - S = Southampton.\n",
    "\n",
    "\n",
    "**Notas:**\n",
    "A variável `Pclass` pode ser considerada uma *proxy* da situação socioeconômico do passageiro, ou seja, \n",
    "1st = Upper, 2nd = Middle,  3rd = Lower.\n"
   ]
  },
  {
   "cell_type": "markdown",
   "metadata": {},
   "source": [
    "___\n",
    "Carregando algumas bibliotecas:"
   ]
  },
  {
   "cell_type": "code",
   "execution_count": 1,
   "metadata": {},
   "outputs": [],
   "source": [
    "%matplotlib inline\n",
    "import pandas as pd\n",
    "import matplotlib.pyplot as plt\n",
    "import numpy as np\n",
    "import os"
   ]
  },
  {
   "cell_type": "code",
   "execution_count": 2,
   "metadata": {
    "scrolled": false
   },
   "outputs": [
    {
     "name": "stdout",
     "output_type": "stream",
     "text": [
      "Esperamos trabalhar no diretório\n",
      "C:\\Users\\User\\Desktop\\INSPER\\CIENCIA DE DADOS\\ESTUDOS\\Simulado_DataScience\\S01\n"
     ]
    }
   ],
   "source": [
    "print('Esperamos trabalhar no diretório')\n",
    "print(os.getcwd())"
   ]
  },
  {
   "cell_type": "markdown",
   "metadata": {},
   "source": [
    "Carregando os dados do arquivo `titanic.xlsx`:"
   ]
  },
  {
   "cell_type": "code",
   "execution_count": 3,
   "metadata": {},
   "outputs": [],
   "source": [
    "titanic = pd.read_excel('titanic.xlsx')"
   ]
  },
  {
   "cell_type": "markdown",
   "metadata": {},
   "source": [
    "Para facilitar algumas análises nesta **Avaliação**, vamos excluir os passageiros que não possuem informação para a variável `Age` usando o comando `dropna()`:"
   ]
  },
  {
   "cell_type": "code",
   "execution_count": 25,
   "metadata": {},
   "outputs": [],
   "source": [
    "dados = titanic.dropna(subset = ['Age']).copy()"
   ]
  },
  {
   "cell_type": "markdown",
   "metadata": {},
   "source": [
    "Para saber quantas linhas (passageiros) e colunas (variáveis) há no *DataFrame* nomeado `dados`:"
   ]
  },
  {
   "cell_type": "code",
   "execution_count": 26,
   "metadata": {},
   "outputs": [
    {
     "data": {
      "text/plain": [
       "(714, 12)"
      ]
     },
     "execution_count": 26,
     "metadata": {},
     "output_type": "execute_result"
    }
   ],
   "source": [
    "dados.shape"
   ]
  },
  {
   "cell_type": "markdown",
   "metadata": {},
   "source": [
    "___\n",
    "**Definindo as variáveis qualitativas como categóricas:**\n",
    "\n",
    "O pandas não tem como saber quais variáveis são qualitativas ao carregar os dados. Então precisamos modificar as colunas explicitamente.\n",
    "\n",
    "Já deixamos isso pronto para você nesta avaliação:"
   ]
  },
  {
   "cell_type": "code",
   "execution_count": 27,
   "metadata": {},
   "outputs": [],
   "source": [
    "dados.loc[:,'Survived'] = dados['Survived'].astype('category')\n",
    "dados.loc[:,'Pclass'] = dados['Pclass'].astype('category')\n",
    "dados.loc[:,'Sex'] = dados['Sex'].astype('category')\n",
    "dados.loc[:,'Cabin'] = dados['Cabin'].astype('category')\n",
    "dados.loc[:,'Embarked'] = dados['Embarked'].astype('category')"
   ]
  },
  {
   "cell_type": "markdown",
   "metadata": {},
   "source": [
    "Agora vamos renomear os rótulos das variáveis qualitativas `Survived` e `Pclass` com comando: `.cat.categories`:"
   ]
  },
  {
   "cell_type": "code",
   "execution_count": 28,
   "metadata": {},
   "outputs": [],
   "source": [
    "dados.Survived.cat.categories = ['No', 'Yes']\n",
    "dados.Pclass.cat.categories = ['1st','2nd','3rd']"
   ]
  },
  {
   "cell_type": "markdown",
   "metadata": {},
   "source": [
    "___\n",
    "***DataFrame* `dados` que deve considerar na resolução das questões a seguir:**"
   ]
  },
  {
   "cell_type": "code",
   "execution_count": 8,
   "metadata": {},
   "outputs": [
    {
     "data": {
      "text/html": [
       "<div>\n",
       "<style scoped>\n",
       "    .dataframe tbody tr th:only-of-type {\n",
       "        vertical-align: middle;\n",
       "    }\n",
       "\n",
       "    .dataframe tbody tr th {\n",
       "        vertical-align: top;\n",
       "    }\n",
       "\n",
       "    .dataframe thead th {\n",
       "        text-align: right;\n",
       "    }\n",
       "</style>\n",
       "<table border=\"1\" class=\"dataframe\">\n",
       "  <thead>\n",
       "    <tr style=\"text-align: right;\">\n",
       "      <th></th>\n",
       "      <th>PassengerId</th>\n",
       "      <th>Survived</th>\n",
       "      <th>Pclass</th>\n",
       "      <th>Name</th>\n",
       "      <th>Sex</th>\n",
       "      <th>Age</th>\n",
       "      <th>SibSp</th>\n",
       "      <th>Parch</th>\n",
       "      <th>Ticket</th>\n",
       "      <th>Fare</th>\n",
       "      <th>Cabin</th>\n",
       "      <th>Embarked</th>\n",
       "    </tr>\n",
       "  </thead>\n",
       "  <tbody>\n",
       "    <tr>\n",
       "      <th>0</th>\n",
       "      <td>1</td>\n",
       "      <td>No</td>\n",
       "      <td>3rd</td>\n",
       "      <td>Braund, Mr. Owen Harris</td>\n",
       "      <td>male</td>\n",
       "      <td>22.0</td>\n",
       "      <td>1</td>\n",
       "      <td>0</td>\n",
       "      <td>A/5 21171</td>\n",
       "      <td>7.2500</td>\n",
       "      <td>NaN</td>\n",
       "      <td>S</td>\n",
       "    </tr>\n",
       "    <tr>\n",
       "      <th>1</th>\n",
       "      <td>2</td>\n",
       "      <td>Yes</td>\n",
       "      <td>1st</td>\n",
       "      <td>Cumings, Mrs. John Bradley (Florence Briggs Th...</td>\n",
       "      <td>female</td>\n",
       "      <td>38.0</td>\n",
       "      <td>1</td>\n",
       "      <td>0</td>\n",
       "      <td>PC 17599</td>\n",
       "      <td>71.2833</td>\n",
       "      <td>C85</td>\n",
       "      <td>C</td>\n",
       "    </tr>\n",
       "    <tr>\n",
       "      <th>2</th>\n",
       "      <td>3</td>\n",
       "      <td>Yes</td>\n",
       "      <td>3rd</td>\n",
       "      <td>Heikkinen, Miss. Laina</td>\n",
       "      <td>female</td>\n",
       "      <td>26.0</td>\n",
       "      <td>0</td>\n",
       "      <td>0</td>\n",
       "      <td>STON/O2. 3101282</td>\n",
       "      <td>7.9250</td>\n",
       "      <td>NaN</td>\n",
       "      <td>S</td>\n",
       "    </tr>\n",
       "  </tbody>\n",
       "</table>\n",
       "</div>"
      ],
      "text/plain": [
       "   PassengerId Survived Pclass  \\\n",
       "0            1       No    3rd   \n",
       "1            2      Yes    1st   \n",
       "2            3      Yes    3rd   \n",
       "\n",
       "                                                Name     Sex   Age  SibSp  \\\n",
       "0                            Braund, Mr. Owen Harris    male  22.0      1   \n",
       "1  Cumings, Mrs. John Bradley (Florence Briggs Th...  female  38.0      1   \n",
       "2                             Heikkinen, Miss. Laina  female  26.0      0   \n",
       "\n",
       "   Parch            Ticket     Fare Cabin Embarked  \n",
       "0      0         A/5 21171   7.2500   NaN        S  \n",
       "1      0          PC 17599  71.2833   C85        C  \n",
       "2      0  STON/O2. 3101282   7.9250   NaN        S  "
      ]
     },
     "execution_count": 8,
     "metadata": {},
     "output_type": "execute_result"
    }
   ],
   "source": [
    "dados.head(3)"
   ]
  },
  {
   "cell_type": "markdown",
   "metadata": {},
   "source": [
    "<div id=\"q1\"></div>\n",
    "\n",
    "___\n",
    "### Questão 1"
   ]
  },
  {
   "cell_type": "markdown",
   "metadata": {},
   "source": [
    "Faça as seguintes manipulações:\n",
    " 1. **[1 ponto]** Filtre apenas as linhas dos passageiros que **viajaram na segunda classe** e que **sobreviveram** e selecione as variáveis: `Age` e `Fare`. Guarde esse subconjunto em um novo *DataFrame* chamado `surv`.\n",
    " \n",
    " $\\hspace{0.5mm}$\n",
    " 1. **[1 ponto]** Nesse subconjunto `surv`, encontre o passageiro que pagou o maior valor de tarifa. Se houver mais de um, encontre o mais velho. "
   ]
  },
  {
   "cell_type": "code",
   "execution_count": 9,
   "metadata": {},
   "outputs": [
    {
     "data": {
      "text/html": [
       "<div>\n",
       "<style scoped>\n",
       "    .dataframe tbody tr th:only-of-type {\n",
       "        vertical-align: middle;\n",
       "    }\n",
       "\n",
       "    .dataframe tbody tr th {\n",
       "        vertical-align: top;\n",
       "    }\n",
       "\n",
       "    .dataframe thead th {\n",
       "        text-align: right;\n",
       "    }\n",
       "</style>\n",
       "<table border=\"1\" class=\"dataframe\">\n",
       "  <thead>\n",
       "    <tr style=\"text-align: right;\">\n",
       "      <th></th>\n",
       "      <th>Pclass</th>\n",
       "      <th>Survived</th>\n",
       "      <th>Age</th>\n",
       "      <th>Fare</th>\n",
       "    </tr>\n",
       "  </thead>\n",
       "  <tbody>\n",
       "    <tr>\n",
       "      <th>615</th>\n",
       "      <td>2nd</td>\n",
       "      <td>Yes</td>\n",
       "      <td>24.0</td>\n",
       "      <td>65.0000</td>\n",
       "    </tr>\n",
       "    <tr>\n",
       "      <th>754</th>\n",
       "      <td>2nd</td>\n",
       "      <td>Yes</td>\n",
       "      <td>48.0</td>\n",
       "      <td>65.0000</td>\n",
       "    </tr>\n",
       "    <tr>\n",
       "      <th>43</th>\n",
       "      <td>2nd</td>\n",
       "      <td>Yes</td>\n",
       "      <td>3.0</td>\n",
       "      <td>41.5792</td>\n",
       "    </tr>\n",
       "    <tr>\n",
       "      <th>608</th>\n",
       "      <td>2nd</td>\n",
       "      <td>Yes</td>\n",
       "      <td>22.0</td>\n",
       "      <td>41.5792</td>\n",
       "    </tr>\n",
       "    <tr>\n",
       "      <th>618</th>\n",
       "      <td>2nd</td>\n",
       "      <td>Yes</td>\n",
       "      <td>4.0</td>\n",
       "      <td>39.0000</td>\n",
       "    </tr>\n",
       "  </tbody>\n",
       "</table>\n",
       "</div>"
      ],
      "text/plain": [
       "    Pclass Survived   Age     Fare\n",
       "615    2nd      Yes  24.0  65.0000\n",
       "754    2nd      Yes  48.0  65.0000\n",
       "43     2nd      Yes   3.0  41.5792\n",
       "608    2nd      Yes  22.0  41.5792\n",
       "618    2nd      Yes   4.0  39.0000"
      ]
     },
     "execution_count": 9,
     "metadata": {},
     "output_type": "execute_result"
    }
   ],
   "source": [
    "# Coloque seu código aqui...\n",
    "#1)\n",
    "\n",
    "filtroclasse = dados['Pclass'] == '2nd'\n",
    "filtrovivo = dados['Survived'] == 'Yes'\n",
    "\n",
    "surv = dados.loc[:, ['Pclass', 'Survived', 'Age', 'Fare']]\n",
    "surv = surv.loc[filtroclasse & filtrovivo, :]\n",
    "\n",
    "#2)\n",
    "\n",
    "surv = surv.sort_values(by='Fare', ascending = False).head(5)\n",
    "surv\n",
    "#O PASSAGEIRO DESEJADO PELO EXERCICIO 2 É O #754\n",
    "\n",
    "\n",
    " "
   ]
  },
  {
   "cell_type": "markdown",
   "metadata": {},
   "source": [
    "<div id=\"q2\"></div>\n",
    "\n",
    "___\n",
    "### Questão 2"
   ]
  },
  {
   "cell_type": "markdown",
   "metadata": {},
   "source": [
    "Faça as seguintes manipulações considerando o *DataFrame* `dados`:\n",
    "  1. **[1 ponto]** Crie uma variável chamada `Age_group` que contenha as seguintes categorias a partir da variável `Age`:\n",
    "        * `Age` $<20$ years $\\rightarrow$ **child or teen**\n",
    "        * $20\\leq$ `Age` $<60$ years $\\rightarrow$ **adult**\n",
    "        * `Age` $\\geq60$ years $\\rightarrow$ **senior**\n",
    "  \n",
    "  $\\hspace{0.5mm}$\n",
    "  1. **[1 ponto]** Construa uma tabela de **frequências relativas** dessa nova variável `Age_group`. "
   ]
  },
  {
   "cell_type": "code",
   "execution_count": 69,
   "metadata": {},
   "outputs": [
    {
     "data": {
      "text/html": [
       "<div>\n",
       "<style scoped>\n",
       "    .dataframe tbody tr th:only-of-type {\n",
       "        vertical-align: middle;\n",
       "    }\n",
       "\n",
       "    .dataframe tbody tr th {\n",
       "        vertical-align: top;\n",
       "    }\n",
       "\n",
       "    .dataframe thead th {\n",
       "        text-align: right;\n",
       "    }\n",
       "</style>\n",
       "<table border=\"1\" class=\"dataframe\">\n",
       "  <thead>\n",
       "    <tr style=\"text-align: right;\">\n",
       "      <th></th>\n",
       "      <th>Age</th>\n",
       "    </tr>\n",
       "  </thead>\n",
       "  <tbody>\n",
       "    <tr>\n",
       "      <th>adult</th>\n",
       "      <td>0.733894</td>\n",
       "    </tr>\n",
       "    <tr>\n",
       "      <th>child or teen</th>\n",
       "      <td>0.229692</td>\n",
       "    </tr>\n",
       "    <tr>\n",
       "      <th>senior</th>\n",
       "      <td>0.036415</td>\n",
       "    </tr>\n",
       "  </tbody>\n",
       "</table>\n",
       "</div>"
      ],
      "text/plain": [
       "                    Age\n",
       "adult          0.733894\n",
       "child or teen  0.229692\n",
       "senior         0.036415"
      ]
     },
     "execution_count": 69,
     "metadata": {},
     "output_type": "execute_result"
    }
   ],
   "source": [
    "# Coloque seu código aqui...\n",
    "labels = ['child or teen', 'adult', 'senior']\n",
    "Age_group = pd.cut(dados['Age'], bins = [0, 20, 60, 100], labels = labels, right = False)\n",
    "Age_group = Age_group.value_counts(True)\n",
    "Age_group.to_frame()"
   ]
  },
  {
   "cell_type": "code",
   "execution_count": 20,
   "metadata": {},
   "outputs": [
    {
     "data": {
      "text/html": [
       "<div>\n",
       "<style scoped>\n",
       "    .dataframe tbody tr th:only-of-type {\n",
       "        vertical-align: middle;\n",
       "    }\n",
       "\n",
       "    .dataframe tbody tr th {\n",
       "        vertical-align: top;\n",
       "    }\n",
       "\n",
       "    .dataframe thead th {\n",
       "        text-align: right;\n",
       "    }\n",
       "</style>\n",
       "<table border=\"1\" class=\"dataframe\">\n",
       "  <thead>\n",
       "    <tr style=\"text-align: right;\">\n",
       "      <th></th>\n",
       "      <th>Age</th>\n",
       "    </tr>\n",
       "  </thead>\n",
       "  <tbody>\n",
       "    <tr>\n",
       "      <th>adult</th>\n",
       "      <td>0.733894</td>\n",
       "    </tr>\n",
       "    <tr>\n",
       "      <th>child or teen</th>\n",
       "      <td>0.229692</td>\n",
       "    </tr>\n",
       "    <tr>\n",
       "      <th>senior</th>\n",
       "      <td>0.036415</td>\n",
       "    </tr>\n",
       "  </tbody>\n",
       "</table>\n",
       "</div>"
      ],
      "text/plain": [
       "                    Age\n",
       "adult          0.733894\n",
       "child or teen  0.229692\n",
       "senior         0.036415"
      ]
     },
     "execution_count": 20,
     "metadata": {},
     "output_type": "execute_result"
    }
   ],
   "source": [
    "#OU\n",
    "def filtroidade(linha):\n",
    "    if linha < 20:\n",
    "        return 'child or teen'\n",
    "    if linha >= 20 and linha < 60:\n",
    "        return 'adult'\n",
    "    if linha >= 60:\n",
    "        return 'senior'\n",
    "    \n",
    "Age_group = dados['Age'].apply(filtroidade)\n",
    "Age_group.value_counts(True).to_frame()"
   ]
  },
  {
   "cell_type": "markdown",
   "metadata": {},
   "source": [
    "<div id=\"q3\"></div>\n",
    "\n",
    "___\n",
    "### Questão 3"
   ]
  },
  {
   "cell_type": "markdown",
   "metadata": {},
   "source": [
    "Faça as seguintes manipulações considerando o *DataFrame* `dados`:\n",
    "  1. **[1 ponto]** Crie uma tabela cruzada com as variáveis `Survived` e `Pclass` que contenha **as frequências relativas** que permitam visualizar o percentual de passageiros em cada categoria de `Pclass` **relativo ao total de passageiros em cada nível de `Survived`**.\n",
    "  \n",
    "  $\\hspace{0.5mm}$\n",
    "  1. **[1 ponto]** Dos passageiros não sobreviventes, qual a frequência relativa (em decimal) destes que viajaram  na 3rd classe? E dos passageiros sobreviventes, qual a frequência relativa (em decimal) destes que viajaram  na 1st classe?\n"
   ]
  },
  {
   "cell_type": "code",
   "execution_count": 70,
   "metadata": {},
   "outputs": [
    {
     "data": {
      "text/html": [
       "<div>\n",
       "<style scoped>\n",
       "    .dataframe tbody tr th:only-of-type {\n",
       "        vertical-align: middle;\n",
       "    }\n",
       "\n",
       "    .dataframe tbody tr th {\n",
       "        vertical-align: top;\n",
       "    }\n",
       "\n",
       "    .dataframe thead th {\n",
       "        text-align: right;\n",
       "    }\n",
       "</style>\n",
       "<table border=\"1\" class=\"dataframe\">\n",
       "  <thead>\n",
       "    <tr style=\"text-align: right;\">\n",
       "      <th>Pclass</th>\n",
       "      <th>1st</th>\n",
       "      <th>2nd</th>\n",
       "      <th>3rd</th>\n",
       "    </tr>\n",
       "    <tr>\n",
       "      <th>Survived</th>\n",
       "      <th></th>\n",
       "      <th></th>\n",
       "      <th></th>\n",
       "    </tr>\n",
       "  </thead>\n",
       "  <tbody>\n",
       "    <tr>\n",
       "      <th>No</th>\n",
       "      <td>0.150943</td>\n",
       "      <td>0.212264</td>\n",
       "      <td>0.636792</td>\n",
       "    </tr>\n",
       "    <tr>\n",
       "      <th>Yes</th>\n",
       "      <td>0.420690</td>\n",
       "      <td>0.286207</td>\n",
       "      <td>0.293103</td>\n",
       "    </tr>\n",
       "    <tr>\n",
       "      <th>All</th>\n",
       "      <td>0.260504</td>\n",
       "      <td>0.242297</td>\n",
       "      <td>0.497199</td>\n",
       "    </tr>\n",
       "  </tbody>\n",
       "</table>\n",
       "</div>"
      ],
      "text/plain": [
       "Pclass         1st       2nd       3rd\n",
       "Survived                              \n",
       "No        0.150943  0.212264  0.636792\n",
       "Yes       0.420690  0.286207  0.293103\n",
       "All       0.260504  0.242297  0.497199"
      ]
     },
     "execution_count": 70,
     "metadata": {},
     "output_type": "execute_result"
    }
   ],
   "source": [
    "# Coloque seu código aqui...\n",
    "#1)\n",
    "firstQ = pd.crosstab(dados['Survived'], dados['Pclass'], margins = True, normalize = 'index')\n",
    "firstQ\n",
    "\n",
    "#2)\n",
    "# DOS PASSAGEIROS QUE NÃO SOBREVIVERAM, 0.636 ERAM DA 3rd CLASSE;\n",
    "# JÁ DOS QUE SOBREVIVERAM, 0.420 ERAM DA 1st CLASSE.\n"
   ]
  },
  {
   "cell_type": "markdown",
   "metadata": {},
   "source": [
    "<div id=\"q4\"></div>\n",
    "\n",
    "___\n",
    "### Questão 4"
   ]
  },
  {
   "cell_type": "markdown",
   "metadata": {},
   "source": [
    "Faça as seguintes manipulações considerando o *DataFrame* `dados`:\n",
    "\n",
    "  1. **[1 ponto]** Para **cada nível da variável `Survived`**, crie uma tabela com medidas-resumo da variável `Fare`.\n",
    "  \n",
    "  $\\hspace{0.5mm}$\n",
    "  1. **[1 ponto]** \n",
    "  Verifique quais afirmações estão corretas de acordo com as medidas-resumo calculadas no item anterior.\n",
    "- 25% dos passageiros não sobreviventes pagaram, no máximo aproximadamente, 7.89 no valor da tarifa. \n",
    "- No Dataframe dados, há 424 passageiros sobreviventes. \n",
    "- A minoria dos passageiros não sobreviventes pagou, em média aproximadamente, mais do que 22.965 no valor da tarifa. \n",
    "- 25% dos passageiros sobreviventes pagaram, no mínimo aproximadamente, 13.00 no valor da tarifa. \n",
    "- A medida coeficiente de variação é dada pelo desvio padrão dividido pela média., permitindo interpretar a dispersão relativamente a média. Neste caso, a dispersão relativa a média da variável Fare é levemente menor entre os passageiros sobreviventes do que entre os não sobreviventes. "
   ]
  },
  {
   "cell_type": "code",
   "execution_count": 71,
   "metadata": {},
   "outputs": [
    {
     "data": {
      "text/html": [
       "<div>\n",
       "<style scoped>\n",
       "    .dataframe tbody tr th:only-of-type {\n",
       "        vertical-align: middle;\n",
       "    }\n",
       "\n",
       "    .dataframe tbody tr th {\n",
       "        vertical-align: top;\n",
       "    }\n",
       "\n",
       "    .dataframe thead th {\n",
       "        text-align: right;\n",
       "    }\n",
       "</style>\n",
       "<table border=\"1\" class=\"dataframe\">\n",
       "  <thead>\n",
       "    <tr style=\"text-align: right;\">\n",
       "      <th></th>\n",
       "      <th>count</th>\n",
       "      <th>mean</th>\n",
       "      <th>std</th>\n",
       "      <th>min</th>\n",
       "      <th>25%</th>\n",
       "      <th>50%</th>\n",
       "      <th>75%</th>\n",
       "      <th>max</th>\n",
       "    </tr>\n",
       "    <tr>\n",
       "      <th>Survived</th>\n",
       "      <th></th>\n",
       "      <th></th>\n",
       "      <th></th>\n",
       "      <th></th>\n",
       "      <th></th>\n",
       "      <th></th>\n",
       "      <th></th>\n",
       "      <th></th>\n",
       "    </tr>\n",
       "  </thead>\n",
       "  <tbody>\n",
       "    <tr>\n",
       "      <th>No</th>\n",
       "      <td>424.0</td>\n",
       "      <td>22.965456</td>\n",
       "      <td>31.448825</td>\n",
       "      <td>0.0</td>\n",
       "      <td>7.8958</td>\n",
       "      <td>11.8875</td>\n",
       "      <td>26.55</td>\n",
       "      <td>263.0000</td>\n",
       "    </tr>\n",
       "    <tr>\n",
       "      <th>Yes</th>\n",
       "      <td>290.0</td>\n",
       "      <td>51.843205</td>\n",
       "      <td>70.458776</td>\n",
       "      <td>0.0</td>\n",
       "      <td>13.0000</td>\n",
       "      <td>26.2500</td>\n",
       "      <td>66.20</td>\n",
       "      <td>512.3292</td>\n",
       "    </tr>\n",
       "  </tbody>\n",
       "</table>\n",
       "</div>"
      ],
      "text/plain": [
       "          count       mean        std  min      25%      50%    75%       max\n",
       "Survived                                                                     \n",
       "No        424.0  22.965456  31.448825  0.0   7.8958  11.8875  26.55  263.0000\n",
       "Yes       290.0  51.843205  70.458776  0.0  13.0000  26.2500  66.20  512.3292"
      ]
     },
     "execution_count": 71,
     "metadata": {},
     "output_type": "execute_result"
    }
   ],
   "source": [
    "# Coloque seu código aqui...\n",
    "#1)\n",
    "dados_yes = dados.loc[dados['Survived'] == 'Yes',:]\n",
    "dados_no = dados.loc[dados['Survived'] == 'No',:]\n",
    "\n",
    "fare_yes = dados_yes['Fare']\n",
    "fare_no = dados_no['Fare']\n",
    "\n",
    "\n",
    "#for title, var_quanti in (('Yes', fare_yes), ('No', fare_no)):\n",
    " #   print('-' * 5 * len(title))\n",
    " #   print('Sobreviveu? {}'.format(title))\n",
    "  #  print('-' * 5 * len(title))\n",
    "  #  print(f'Contagem               = {len(var_quanti)}')\n",
    "  #  print(f'Tarifa Média           = {var_quanti.mean():.3f}')\n",
    "  #  print(f'Tarifa Mínima          = {var_quanti.min():.3f}')\n",
    " #   print(f'Primeiro quartil (Q1)  = {var_quanti.quantile(q=0.25):.3f}')\n",
    " #   print(f'Mediana          (Q2)  = {var_quanti.median():.3f}')\n",
    " #   print(f'Terceiro quartil (Q3)  = {var_quanti.quantile(q=0.75):.3f}')\n",
    " #   print(f'Tarifa Máxima          = {var_quanti.max():.3f}')\n",
    " #   print(f'Variância amostral     = {var_quanti.var():.3f}')\n",
    " #   print(f'Desvio padrão amostral = {var_quanti.std():.3f}')\n",
    "  #  print(f'Coeficiente de variação= {(var_quanti.std()/var_quanti.mean()):.3f}')\n",
    "  #  print()\n",
    "dados.groupby('Survived')['Fare'].describe()\n",
    "    \n",
    "#2) 1- V\n",
    "#   2- F\n",
    "#   3- F\n",
    "#   4- F\n",
    "#   5- V\n"
   ]
  },
  {
   "cell_type": "markdown",
   "metadata": {},
   "source": [
    "<div id=\"q5\"></div>\n",
    "\n",
    "___\n",
    "### Questão 5"
   ]
  },
  {
   "cell_type": "markdown",
   "metadata": {},
   "source": [
    "Estude a associação entre as variáveis `Age` e `Fare` separando os passageiros sobreviventes dos não sobreviventes.\n",
    "\n",
    "É possível afirmar, por exemplo, que pessoas mais velhas tendem a pagar por tarifas mais caras? E a associação entre essas variáveis quantitativas se dá da mesma forma entre os sobreviventes e não sobreviventes?\n",
    "\n",
    "Para investigar tais hipóteses, faça:\n",
    "\n",
    " 1. **[0.5 ponto]** Gere um **gráfico de dispersão** entre as variáveis `Age` e `Fare` considerando os passageiros sobreviventes e não sobreviventes separadamente.\n",
    " \n",
    " $\\hspace{0.5mm}$\n",
    " 1. **[0.5 ponto]** Calcule o **coeficiente de correlação linear** entre as variáveis `Age` e `Fare` só com os passageiros não sobreviventes. E a correlação só com os sobreviventes.\n",
    " \n",
    " $\\hspace{0.5mm}$\n",
    " 1. **[1 ponto]** **No Blackboard, responda as perguntas com base nos resultados dos itens anteriores.**"
   ]
  },
  {
   "cell_type": "code",
   "execution_count": 72,
   "metadata": {},
   "outputs": [
    {
     "data": {
      "image/png": "[encoded data removed]",
      "text/plain": [
       "<Figure size 936x360 with 2 Axes>"
      ]
     },
     "metadata": {
      "needs_background": "light"
     },
     "output_type": "display_data"
    }
   ],
   "source": [
    "# Coloque seu código aqui...\n",
    "fig = plt.figure(figsize=(13, 5))\n",
    "\n",
    "plt.subplot(121)\n",
    "plt.scatter(dados.Age[dados.Survived=='Yes'], dados.Fare[dados.Survived=='Yes'], c='red', alpha=0.4)\n",
    "plt.title('Survived - Yes')\n",
    "plt.ylabel('Fare')\n",
    "plt.ylim(0,300)\n",
    "plt.xlabel('Age')\n",
    "plt.xlim(-5,85)\n",
    "\n",
    "plt.subplot(122)\n",
    "plt.scatter(dados.Age[dados.Survived=='No'], dados.Fare[dados.Survived=='No'], c='blue', alpha=0.4)\n",
    "plt.title('Survived - No')\n",
    "plt.ylabel('Fare')\n",
    "plt.ylim(0,300)\n",
    "plt.xlabel('Age')\n",
    "plt.xlim(-5,85)\n",
    "\n",
    "plt.tight_layout()\n",
    "plt.show()"
   ]
  }
 ],
 "metadata": {
  "kernelspec": {
   "display_name": "Python 3",
   "language": "python",
   "name": "python3"
  },
  "language_info": {
   "codemirror_mode": {
    "name": "ipython",
    "version": 3
   },
   "file_extension": ".py",
   "mimetype": "text/x-python",
   "name": "python",
   "nbconvert_exporter": "python",
   "pygments_lexer": "ipython3",
   "version": "3.8.5"
  }
 },
 "nbformat": 4,
 "nbformat_minor": 2
}
